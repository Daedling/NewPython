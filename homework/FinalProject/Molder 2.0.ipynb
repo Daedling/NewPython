{
 "cells": [
  {
   "cell_type": "code",
   "execution_count": 1,
   "metadata": {},
   "outputs": [
    {
     "data": {
      "text/plain": [
       "\"Man's blood thereof thou make in the king of Canaan. \""
      ]
     },
     "execution_count": 1,
     "metadata": {},
     "output_type": "execute_result"
    }
   ],
   "source": [
    "import json\n",
    "import random\n",
    "def Molder():\n",
    "    with open ('glob.json','r',encoding='utf-8') as k:\n",
    "        glob=json.load(k)\n",
    "    a=random.choice(glob)\n",
    "    res=''\n",
    "    while True:\n",
    "        if res == '':\n",
    "            res+=a[0].capitalize()\n",
    "        else:\n",
    "            res+=a[0]\n",
    "        m1=a[2].keys()#znak prepinaniya\n",
    "        m1=list(m1)\n",
    "        m2=a[2].values()\n",
    "        m2=list(m2)\n",
    "        znak=random.choices(m1,weights=m2,k=1)\n",
    "        res+=znak[0]\n",
    "        if znak[0]!=' ':\n",
    "            res+=' '\n",
    "        m1=a[1].keys()#next word\n",
    "        m1=list(m1)\n",
    "        m2=a[1].values()\n",
    "        m2=list(m2)\n",
    "        a=random.choices(m1,weights=m2,k=1)[0]\n",
    "        for v in glob:\n",
    "            if v[0]==a:\n",
    "                a=v\n",
    "                break\n",
    "        if res[-2]=='.':\n",
    "            break\n",
    "    return(res)\n",
    "Molder()\n",
    "\n",
    "\n"
   ]
  },
  {
   "cell_type": "code",
   "execution_count": null,
   "metadata": {},
   "outputs": [],
   "source": []
  },
  {
   "cell_type": "code",
   "execution_count": null,
   "metadata": {},
   "outputs": [],
   "source": []
  }
 ],
 "metadata": {
  "kernelspec": {
   "display_name": "Python 3",
   "language": "python",
   "name": "python3"
  },
  "language_info": {
   "codemirror_mode": {
    "name": "ipython",
    "version": 3
   },
   "file_extension": ".py",
   "mimetype": "text/x-python",
   "name": "python",
   "nbconvert_exporter": "python",
   "pygments_lexer": "ipython3",
   "version": "3.6.5"
  }
 },
 "nbformat": 4,
 "nbformat_minor": 2
}
