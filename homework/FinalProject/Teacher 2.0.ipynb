{
 "cells": [
  {
   "cell_type": "code",
   "execution_count": 70,
   "metadata": {},
   "outputs": [
    {
     "name": "stdout",
     "output_type": "stream",
     "text": [
      "<class 'list'>\n"
     ]
    }
   ],
   "source": [
    "import json\n",
    "import random\n",
    "with open ('bible.txt', 'r',encoding='utf-8') as k:\n",
    "    k=k.read()\n",
    "    k=k.split(' ')\n",
    "    glob=[]\n",
    "    prep=[',',';','!','?','.',':']\n",
    "    for num, a in enumerate (k):\n",
    "        prae=['',{},{}]\n",
    "        if a==k[-1]:\n",
    "            break\n",
    "            #next word\n",
    "        nxt=k[num+1]\n",
    "        if nxt[-1] in prep:\n",
    "            nxt=nxt[:-1]\n",
    "        if nxt in prae[1].keys():\n",
    "            prae[1][nxt]+=1\n",
    "        else:\n",
    "            prae[1][nxt]=1  #end new word\n",
    "        if a[-1] in prep:\n",
    "            word=a[:-1]\n",
    "            if a[-1] in prae[2].keys():\n",
    "                prae[2][a[-1]]+=1\n",
    "            else:\n",
    "                prae[2][a[-1]]=1\n",
    "        else:\n",
    "            word=a\n",
    "            if ' ' in prae[2].keys():\n",
    "                prae[2][' ']+=1\n",
    "            else:\n",
    "                prae[2][' ']=1 #prepinaniye\n",
    "        prae[0]=word\n",
    "        for numo, b in enumerate (glob):\n",
    "            if b[0]==word:\n",
    "                if list(prae[1].keys())[0] in b[1].keys():\n",
    "                    glob[numo][1][list(prae[1].keys())[0]]+=1\n",
    "                else:\n",
    "                    glob[numo][1].update(prae[1])\n",
    "                continue  \n",
    "        glob.append(prae)\n",
    "    print(type(glob))\n",
    "    with open('glob.json', 'w', encoding='utf-8') as f:\n",
    "        json.dump(glob,f)\n",
    "    \n",
    "def Molder(glob):\n",
    "    a=random.choice(glob)\n",
    "    res=''\n",
    "    while True:\n",
    "        if res == '':\n",
    "            res+=a[0].capitalize()\n",
    "        else:\n",
    "            res+=a[0]\n",
    "        m1=a[2].keys()#znak prepinaniya\n",
    "        m1=list(m1)\n",
    "        m2=a[2].values()\n",
    "        m2=list(m2)\n",
    "        znak=random.choices(m1,weights=m2,k=1)\n",
    "        res+=znak[0]\n",
    "        if znak[0]!=' ':\n",
    "            res+=' '\n",
    "        m1=a[1].keys()#next word\n",
    "        m1=list(m1)\n",
    "        m2=a[1].values()\n",
    "        m2=list(m2)\n",
    "        a=random.choices(m1,weights=m2,k=1)[0]\n",
    "        for v in glob:\n",
    "            if v[0]==a:\n",
    "                a=v\n",
    "                break\n",
    "        if res[-2]=='.':\n",
    "            break\n",
    "    return(res)\n",
    "\n",
    "            \n",
    "            "
   ]
  },
  {
   "cell_type": "code",
   "execution_count": null,
   "metadata": {},
   "outputs": [],
   "source": []
  },
  {
   "cell_type": "code",
   "execution_count": null,
   "metadata": {},
   "outputs": [],
   "source": []
  },
  {
   "cell_type": "code",
   "execution_count": null,
   "metadata": {},
   "outputs": [],
   "source": []
  }
 ],
 "metadata": {
  "kernelspec": {
   "display_name": "Python 3",
   "language": "python",
   "name": "python3"
  },
  "language_info": {
   "codemirror_mode": {
    "name": "ipython",
    "version": 3
   },
   "file_extension": ".py",
   "mimetype": "text/x-python",
   "name": "python",
   "nbconvert_exporter": "python",
   "pygments_lexer": "ipython3",
   "version": "3.6.5"
  }
 },
 "nbformat": 4,
 "nbformat_minor": 2
}
